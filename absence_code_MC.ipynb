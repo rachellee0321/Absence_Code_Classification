{
 "cells": [
  {
   "cell_type": "markdown",
   "metadata": {},
   "source": [
    "# "
   ]
  },
  {
   "cell_type": "markdown",
   "metadata": {},
   "source": [
    "# Absence Code Classification (MC)\n",
    "\n",
    "Last Updated : 10/6/2020"
   ]
  },
  {
   "cell_type": "markdown",
   "metadata": {},
   "source": [
    "#### Purpose: Predict CEPR standard absence codes from raw absence code and descriptions from MC."
   ]
  },
  {
   "cell_type": "markdown",
   "metadata": {},
   "source": [
    "# "
   ]
  },
  {
   "cell_type": "markdown",
   "metadata": {},
   "source": [
    "### 0. Import libraries "
   ]
  },
  {
   "cell_type": "code",
   "execution_count": 1,
   "metadata": {},
   "outputs": [
    {
     "name": "stderr",
     "output_type": "stream",
     "text": [
      "/Users/jil380/anaconda3/lib/python3.6/site-packages/sklearn/cross_validation.py:41: DeprecationWarning: This module was deprecated in version 0.18 in favor of the model_selection module into which all the refactored classes and functions are moved. Also note that the interface of the new CV iterators are different from that of this module. This module will be removed in 0.20.\n",
      "  \"This module will be removed in 0.20.\", DeprecationWarning)\n",
      "/Users/jil380/anaconda3/lib/python3.6/site-packages/sklearn/ensemble/weight_boosting.py:29: DeprecationWarning: numpy.core.umath_tests is an internal NumPy module and should not be imported. It will be removed in a future NumPy release.\n",
      "  from numpy.core.umath_tests import inner1d\n"
     ]
    }
   ],
   "source": [
    "import numpy as np\n",
    "import pandas as pd\n",
    "\n",
    "from matplotlib import pyplot as plt  \n",
    "import seaborn as sns\n",
    "\n",
    "import string  # for defining special characters to remove\n",
    "import re\n",
    "#import nltk\n",
    "from nltk import word_tokenize\n",
    "from nltk.corpus import stopwords\n",
    "from nltk.stem import WordNetLemmatizer\n",
    "\n",
    "\n",
    "from sklearn.cross_validation import train_test_split\n",
    "#from sklearn.feature_extraction.text import TfidfTransformer\n",
    "from sklearn.feature_extraction.text import TfidfVectorizer\n",
    "\n",
    "from sklearn.ensemble import RandomForestClassifier\n",
    "from sklearn.linear_model import LogisticRegression\n",
    "from sklearn.naive_bayes import GaussianNB \n",
    "from sklearn.discriminant_analysis import LinearDiscriminantAnalysis\n",
    "\n",
    "from sklearn.metrics import accuracy_score\n",
    "from sklearn.metrics import confusion_matrix\n",
    "\n",
    "from sklearn.model_selection import validation_curve\n"
   ]
  },
  {
   "cell_type": "markdown",
   "metadata": {},
   "source": [
    "import numpy as np\n",
    "import pandas as pd\n",
    "\n",
    "from sklearn import datasets, linear_model\n",
    "\n",
    "from sklearn.model_selection import train_test_split\n",
    "from sklearn.naive_bayes import MultinomialNB\n",
    "from sklearn.feature_extraction.text import TfidfTransformer\n",
    "from sklearn.feature_extraction.text import TfidfVectorizer\n",
    "from sklearn.pipeline import Pipeline\n",
    "from sklearn.metrics import confusion_matrix\n",
    "from sklearn.cross_validation import train_test_split\n",
    "from sklearn import model_selection, preprocessing, linear_model, naive_bayes, metrics, svm\n",
    "\n",
    "from sklearn.linear_model import LogisticRegression as LogReg\n",
    "\n",
    "\n",
    "import re\n",
    "\n",
    "import string\n",
    "from nltk.tokenize import word_tokenize\n",
    "from nltk.stem import WordNetLemmatizer\n",
    "from nltk.corpus import stopwords\n",
    "from nltk.stem.porter import PorterStemmer\n",
    "from nltk.tag import pos_tag\n",
    "\n",
    "\n",
    "from gensim.models import Word2Vec"
   ]
  },
  {
   "cell_type": "markdown",
   "metadata": {},
   "source": [
    "# "
   ]
  },
  {
   "cell_type": "markdown",
   "metadata": {},
   "source": [
    "## 1. Prep Data"
   ]
  },
  {
   "cell_type": "markdown",
   "metadata": {},
   "source": [
    "#### 1.1  Read in data"
   ]
  },
  {
   "cell_type": "code",
   "execution_count": 2,
   "metadata": {},
   "outputs": [
    {
     "data": {
      "text/html": [
       "<div>\n",
       "<style scoped>\n",
       "    .dataframe tbody tr th:only-of-type {\n",
       "        vertical-align: middle;\n",
       "    }\n",
       "\n",
       "    .dataframe tbody tr th {\n",
       "        vertical-align: top;\n",
       "    }\n",
       "\n",
       "    .dataframe thead th {\n",
       "        text-align: right;\n",
       "    }\n",
       "</style>\n",
       "<table border=\"1\" class=\"dataframe\">\n",
       "  <thead>\n",
       "    <tr style=\"text-align: right;\">\n",
       "      <th></th>\n",
       "      <th>District ID</th>\n",
       "      <th>LOCAL - Excused</th>\n",
       "      <th>Data Category</th>\n",
       "      <th>Source Data Code</th>\n",
       "      <th>Source Data Description</th>\n",
       "      <th>Data Category 2</th>\n",
       "      <th>Source Data Code 2</th>\n",
       "      <th>Source Data Description 2</th>\n",
       "      <th>AbsenceType</th>\n",
       "      <th>AbsenceStatus</th>\n",
       "      <th>ExcusedFlag</th>\n",
       "      <th>UnexcusedFlag</th>\n",
       "      <th>SuspendedStatus</th>\n",
       "      <th>DWAbsenceCode</th>\n",
       "    </tr>\n",
       "  </thead>\n",
       "  <tbody>\n",
       "    <tr>\n",
       "      <th>0</th>\n",
       "      <td>47720</td>\n",
       "      <td>Excused</td>\n",
       "      <td>AbsenceReason</td>\n",
       "      <td>ALLREASON</td>\n",
       "      <td>NaN</td>\n",
       "      <td>AbsenceCode</td>\n",
       "      <td>3</td>\n",
       "      <td>FIELD TRIP</td>\n",
       "      <td>NaN</td>\n",
       "      <td>NaN</td>\n",
       "      <td>NaN</td>\n",
       "      <td>NaN</td>\n",
       "      <td>NaN</td>\n",
       "      <td>NaN</td>\n",
       "    </tr>\n",
       "    <tr>\n",
       "      <th>1</th>\n",
       "      <td>47720</td>\n",
       "      <td>Excused</td>\n",
       "      <td>AbsenceReason</td>\n",
       "      <td>ALLREASON</td>\n",
       "      <td>Field Trip</td>\n",
       "      <td>AbsenceCode</td>\n",
       "      <td>3</td>\n",
       "      <td>FIELD TRIP</td>\n",
       "      <td>2</td>\n",
       "      <td>1.0</td>\n",
       "      <td>1.0</td>\n",
       "      <td>0.0</td>\n",
       "      <td>0.0</td>\n",
       "      <td>21100.0</td>\n",
       "    </tr>\n",
       "    <tr>\n",
       "      <th>2</th>\n",
       "      <td>48793</td>\n",
       "      <td>Absent</td>\n",
       "      <td>AbsenceReason</td>\n",
       "      <td>ALLREASON</td>\n",
       "      <td>NaN</td>\n",
       "      <td>AbsenceCode</td>\n",
       "      <td>AC</td>\n",
       "      <td>Absent-Excused-Same Day Parent Call</td>\n",
       "      <td>2</td>\n",
       "      <td>1.0</td>\n",
       "      <td>1.0</td>\n",
       "      <td>0.0</td>\n",
       "      <td>0.0</td>\n",
       "      <td>21100.0</td>\n",
       "    </tr>\n",
       "    <tr>\n",
       "      <th>3</th>\n",
       "      <td>48793</td>\n",
       "      <td>Absent</td>\n",
       "      <td>AbsenceReason</td>\n",
       "      <td>ALLREASON</td>\n",
       "      <td>NaN</td>\n",
       "      <td>AbsenceCode</td>\n",
       "      <td>AC</td>\n",
       "      <td>Absent-Excused-Same Day Parent Call</td>\n",
       "      <td>2</td>\n",
       "      <td>1.0</td>\n",
       "      <td>1.0</td>\n",
       "      <td>0.0</td>\n",
       "      <td>0.0</td>\n",
       "      <td>21100.0</td>\n",
       "    </tr>\n",
       "    <tr>\n",
       "      <th>4</th>\n",
       "      <td>48793</td>\n",
       "      <td>Absent</td>\n",
       "      <td>AbsenceReason</td>\n",
       "      <td>ALLREASON</td>\n",
       "      <td>NaN</td>\n",
       "      <td>AbsenceCode</td>\n",
       "      <td>AC</td>\n",
       "      <td>Absent-Excused-Same Day Parent Call</td>\n",
       "      <td>2</td>\n",
       "      <td>1.0</td>\n",
       "      <td>1.0</td>\n",
       "      <td>0.0</td>\n",
       "      <td>0.0</td>\n",
       "      <td>21100.0</td>\n",
       "    </tr>\n",
       "  </tbody>\n",
       "</table>\n",
       "</div>"
      ],
      "text/plain": [
       "  District ID LOCAL - Excused  Data Category Source Data Code  \\\n",
       "0       47720         Excused  AbsenceReason        ALLREASON   \n",
       "1       47720         Excused  AbsenceReason        ALLREASON   \n",
       "2       48793          Absent  AbsenceReason        ALLREASON   \n",
       "3       48793          Absent  AbsenceReason        ALLREASON   \n",
       "4       48793          Absent  AbsenceReason        ALLREASON   \n",
       "\n",
       "  Source Data Description Data Category 2 Source Data Code 2  \\\n",
       "0                     NaN     AbsenceCode                  3   \n",
       "1              Field Trip     AbsenceCode                  3   \n",
       "2                     NaN     AbsenceCode                 AC   \n",
       "3                     NaN     AbsenceCode                 AC   \n",
       "4                     NaN     AbsenceCode                 AC   \n",
       "\n",
       "             Source Data Description 2 AbsenceType  AbsenceStatus  \\\n",
       "0                           FIELD TRIP         NaN            NaN   \n",
       "1                           FIELD TRIP           2            1.0   \n",
       "2  Absent-Excused-Same Day Parent Call           2            1.0   \n",
       "3  Absent-Excused-Same Day Parent Call           2            1.0   \n",
       "4  Absent-Excused-Same Day Parent Call           2            1.0   \n",
       "\n",
       "   ExcusedFlag  UnexcusedFlag  SuspendedStatus  DWAbsenceCode  \n",
       "0          NaN            NaN              NaN            NaN  \n",
       "1          1.0            0.0              0.0        21100.0  \n",
       "2          1.0            0.0              0.0        21100.0  \n",
       "3          1.0            0.0              0.0        21100.0  \n",
       "4          1.0            0.0              0.0        21100.0  "
      ]
     },
     "execution_count": 2,
     "metadata": {},
     "output_type": "execute_result"
    }
   ],
   "source": [
    "# This is downloaded from quickbase.\n",
    "abscodes = pd.read_csv('~/Desktop/CEPR_Attendance_Data_Mapping_MC.csv')\n",
    "abscodes.head(n=5)"
   ]
  },
  {
   "cell_type": "code",
   "execution_count": 3,
   "metadata": {},
   "outputs": [
    {
     "data": {
      "text/html": [
       "<div>\n",
       "<style scoped>\n",
       "    .dataframe tbody tr th:only-of-type {\n",
       "        vertical-align: middle;\n",
       "    }\n",
       "\n",
       "    .dataframe tbody tr th {\n",
       "        vertical-align: top;\n",
       "    }\n",
       "\n",
       "    .dataframe thead th {\n",
       "        text-align: right;\n",
       "    }\n",
       "</style>\n",
       "<table border=\"1\" class=\"dataframe\">\n",
       "  <thead>\n",
       "    <tr style=\"text-align: right;\">\n",
       "      <th></th>\n",
       "      <th>pid</th>\n",
       "      <th>local_excused</th>\n",
       "      <th>category1</th>\n",
       "      <th>abs_code1</th>\n",
       "      <th>abs_desc1</th>\n",
       "      <th>category2</th>\n",
       "      <th>abs_code2</th>\n",
       "      <th>abs_desc2</th>\n",
       "      <th>abs_type</th>\n",
       "      <th>absent</th>\n",
       "      <th>excused</th>\n",
       "      <th>unexcused</th>\n",
       "      <th>suspended</th>\n",
       "      <th>dw_code</th>\n",
       "    </tr>\n",
       "  </thead>\n",
       "  <tbody>\n",
       "    <tr>\n",
       "      <th>0</th>\n",
       "      <td>47720</td>\n",
       "      <td>Excused</td>\n",
       "      <td>AbsenceReason</td>\n",
       "      <td>ALLREASON</td>\n",
       "      <td>NaN</td>\n",
       "      <td>AbsenceCode</td>\n",
       "      <td>3</td>\n",
       "      <td>FIELD TRIP</td>\n",
       "      <td>NaN</td>\n",
       "      <td>NaN</td>\n",
       "      <td>NaN</td>\n",
       "      <td>NaN</td>\n",
       "      <td>NaN</td>\n",
       "      <td>NaN</td>\n",
       "    </tr>\n",
       "    <tr>\n",
       "      <th>1</th>\n",
       "      <td>47720</td>\n",
       "      <td>Excused</td>\n",
       "      <td>AbsenceReason</td>\n",
       "      <td>ALLREASON</td>\n",
       "      <td>Field Trip</td>\n",
       "      <td>AbsenceCode</td>\n",
       "      <td>3</td>\n",
       "      <td>FIELD TRIP</td>\n",
       "      <td>2</td>\n",
       "      <td>1.0</td>\n",
       "      <td>1.0</td>\n",
       "      <td>0.0</td>\n",
       "      <td>0.0</td>\n",
       "      <td>21100.0</td>\n",
       "    </tr>\n",
       "    <tr>\n",
       "      <th>2</th>\n",
       "      <td>48793</td>\n",
       "      <td>Absent</td>\n",
       "      <td>AbsenceReason</td>\n",
       "      <td>ALLREASON</td>\n",
       "      <td>NaN</td>\n",
       "      <td>AbsenceCode</td>\n",
       "      <td>AC</td>\n",
       "      <td>Absent-Excused-Same Day Parent Call</td>\n",
       "      <td>2</td>\n",
       "      <td>1.0</td>\n",
       "      <td>1.0</td>\n",
       "      <td>0.0</td>\n",
       "      <td>0.0</td>\n",
       "      <td>21100.0</td>\n",
       "    </tr>\n",
       "  </tbody>\n",
       "</table>\n",
       "</div>"
      ],
      "text/plain": [
       "     pid local_excused      category1  abs_code1   abs_desc1    category2  \\\n",
       "0  47720       Excused  AbsenceReason  ALLREASON         NaN  AbsenceCode   \n",
       "1  47720       Excused  AbsenceReason  ALLREASON  Field Trip  AbsenceCode   \n",
       "2  48793        Absent  AbsenceReason  ALLREASON         NaN  AbsenceCode   \n",
       "\n",
       "  abs_code2                            abs_desc2 abs_type  absent  excused  \\\n",
       "0         3                           FIELD TRIP      NaN     NaN      NaN   \n",
       "1         3                           FIELD TRIP        2     1.0      1.0   \n",
       "2        AC  Absent-Excused-Same Day Parent Call        2     1.0      1.0   \n",
       "\n",
       "   unexcused  suspended  dw_code  \n",
       "0        NaN        NaN      NaN  \n",
       "1        0.0        0.0  21100.0  \n",
       "2        0.0        0.0  21100.0  "
      ]
     },
     "execution_count": 3,
     "metadata": {},
     "output_type": "execute_result"
    }
   ],
   "source": [
    "# Rename all the columns\n",
    "abscodes.columns = ['pid','local_excused','category1','abs_code1','abs_desc1', 'category2','abs_code2','abs_desc2', # raw data\n",
    "                    'abs_type','absent','excused','unexcused','suspended','dw_code'] # dw-mapped labels\n",
    "abscodes.head(3)"
   ]
  },
  {
   "cell_type": "markdown",
   "metadata": {},
   "source": [
    "#### 1.2 Explore data"
   ]
  },
  {
   "cell_type": "code",
   "execution_count": 4,
   "metadata": {},
   "outputs": [
    {
     "name": "stdout",
     "output_type": "stream",
     "text": [
      "Original Data shape: (1774, 14)\n"
     ]
    }
   ],
   "source": [
    "print(\"Original Data shape:\",abscodes.shape)"
   ]
  },
  {
   "cell_type": "code",
   "execution_count": 5,
   "metadata": {},
   "outputs": [
    {
     "name": "stdout",
     "output_type": "stream",
     "text": [
      "*--Number of unique values per feature--* \n",
      "\n",
      "pid : 22\n",
      "local_excused : 44\n",
      "category1 : 2\n",
      "abs_code1 : 1\n",
      "abs_desc1 : 470\n",
      "category2 : 2\n",
      "abs_code2 : 235\n",
      "abs_desc2 : 85\n"
     ]
    }
   ],
   "source": [
    "print('*--Number of unique values per feature--* \\n')\n",
    "for i in range(0,8):\n",
    "    print(abscodes.columns[i], ':' ,abscodes.iloc[:,i].nunique())"
   ]
  },
  {
   "cell_type": "code",
   "execution_count": 6,
   "metadata": {},
   "outputs": [
    {
     "name": "stdout",
     "output_type": "stream",
     "text": [
      "*--Category1--* \n",
      " AbsenceReason        1733\n",
      "CEPRAbsenceReason      41\n",
      "Name: category1, dtype: int64 \n",
      "\n",
      "*--Category2--* \n",
      " AbsenceType    1656\n",
      "AbsenceCode     118\n",
      "Name: category2, dtype: int64\n"
     ]
    }
   ],
   "source": [
    "# There are two values in each category vars - let's check what they are\n",
    "print('*--Category1--* \\n',abscodes.category1.value_counts(), '\\n')\n",
    "print('*--Category2--* \\n',abscodes.category2.value_counts())"
   ]
  },
  {
   "cell_type": "code",
   "execution_count": 7,
   "metadata": {},
   "outputs": [
    {
     "name": "stdout",
     "output_type": "stream",
     "text": [
      "pid                 0\n",
      "local_excused      30\n",
      "category1           0\n",
      "abs_code1           0\n",
      "abs_desc1         251\n",
      "category2           0\n",
      "abs_code2           6\n",
      "abs_desc2        1344\n",
      "abs_type           62\n",
      "absent             62\n",
      "excused            62\n",
      "unexcused          62\n",
      "suspended          63\n",
      "dw_code            62\n",
      "dtype: int64\n"
     ]
    }
   ],
   "source": [
    "# Check null values in each column\n",
    "print(abscodes.isnull().sum())"
   ]
  },
  {
   "cell_type": "code",
   "execution_count": 8,
   "metadata": {},
   "outputs": [
    {
     "data": {
      "text/plain": [
       "(21, 14)"
      ]
     },
     "execution_count": 8,
     "metadata": {},
     "output_type": "execute_result"
    }
   ],
   "source": [
    "# Number of rows without any description\n",
    "abscodes[abscodes.abs_desc1.isnull() & abscodes.abs_desc2.isnull()].shape"
   ]
  },
  {
   "cell_type": "markdown",
   "metadata": {},
   "source": [
    "21 rows with missing absence description - this is when only absence codes were used to identify type of absences."
   ]
  },
  {
   "cell_type": "markdown",
   "metadata": {},
   "source": [
    "####  \n",
    "#### Let's look at the dependent variables: absent/ absent_type."
   ]
  },
  {
   "cell_type": "code",
   "execution_count": 9,
   "metadata": {},
   "outputs": [],
   "source": [
    "# Drop 62 rows with missing 'abs_type'/'absent' info \n",
    "abscodes = abscodes[abscodes.absent.notnull()]"
   ]
  },
  {
   "cell_type": "code",
   "execution_count": 10,
   "metadata": {},
   "outputs": [
    {
     "data": {
      "text/plain": [
       "1.0    1060\n",
       "0.0     651\n",
       "9.0       1\n",
       "Name: absent, dtype: int64"
      ]
     },
     "execution_count": 10,
     "metadata": {},
     "output_type": "execute_result"
    }
   ],
   "source": [
    "# Check distribution of 'absent' column \n",
    "abscodes.absent.value_counts()"
   ]
  },
  {
   "cell_type": "code",
   "execution_count": 11,
   "metadata": {},
   "outputs": [],
   "source": [
    "# Let's drop 'absent' == 9 since there is only one\n",
    "abscodes = abscodes[abscodes.absent != 9]"
   ]
  },
  {
   "cell_type": "code",
   "execution_count": 12,
   "metadata": {},
   "outputs": [
    {
     "name": "stdout",
     "output_type": "stream",
     "text": [
      "Absent: 1060\n",
      "Present: 651\n"
     ]
    },
    {
     "data": {
      "image/png": "[encoded data removed]",
      "text/plain": [
       "<Figure size 432x288 with 1 Axes>"
      ]
     },
     "metadata": {},
     "output_type": "display_data"
    }
   ],
   "source": [
    "# Plot distribution of 'absent' column\n",
    "ax = sns.countplot(abscodes.absent, label=\"Count\")\n",
    "A, P = abscodes.absent.value_counts()\n",
    "print(f'Absent: {A}')\n",
    "print(f'Present: {P}')"
   ]
  },
  {
   "cell_type": "code",
   "execution_count": 13,
   "metadata": {},
   "outputs": [
    {
     "data": {
      "text/plain": [
       "2    1060\n",
       "3     253\n",
       "4     177\n",
       "6     129\n",
       "1      92\n",
       "Name: abs_type, dtype: int64"
      ]
     },
     "execution_count": 13,
     "metadata": {},
     "output_type": "execute_result"
    },
    {
     "data": {
      "image/png": "[encoded data removed]",
      "text/plain": [
       "<Figure size 432x288 with 1 Axes>"
      ]
     },
     "metadata": {},
     "output_type": "display_data"
    }
   ],
   "source": [
    "# Plot distribution of 'absent_type' column\n",
    "ax2 = sns.countplot(abscodes.abs_type,label=\"Count\")\n",
    "abscodes.abs_type.value_counts()"
   ]
  },
  {
   "cell_type": "markdown",
   "metadata": {},
   "source": [
    "Distribution of the abs type code is unbalanced. \n",
    "'abs_type'==2 indicates present ('absent' == 0).  \n",
    "All of the types for 'absent' == 1 are divided among four different types. We might want to work on classifying 'abs_type' in the future; for now, let's focus on classifying 'absent' classes."
   ]
  },
  {
   "cell_type": "code",
   "execution_count": 14,
   "metadata": {},
   "outputs": [
    {
     "name": "stdout",
     "output_type": "stream",
     "text": [
      "Processed data shape: (1711, 15)\n"
     ]
    }
   ],
   "source": [
    "# Now that we've cleaned the dataframe as needed, reset the index\n",
    "abscodes = abscodes.reset_index()\n",
    "print('Processed data shape:', abscodes.shape)"
   ]
  },
  {
   "cell_type": "markdown",
   "metadata": {},
   "source": [
    "#    \n",
    "#### Let's look at the raw absence descriptions."
   ]
  },
  {
   "cell_type": "code",
   "execution_count": 15,
   "metadata": {},
   "outputs": [
    {
     "name": "stdout",
     "output_type": "stream",
     "text": [
      "Unique number of abs_desc1: 470 \n",
      "\n",
      "*-- Examples of abs_desc1 when absent == 1 --*\n",
      "1068    OUT OF SCHOOL SUSPENSION\n",
      "1585          Vacation-Unexcused\n",
      "1485                    UNEX ABS\n",
      "190                   AUTHORIZED\n",
      "948      MEDICAL EXCUSED PARTIAL\n",
      "Name: abs_desc1, dtype: object\n",
      "\n",
      "*-- Examples of abs_desc1 when absent == 0 --*\n",
      "514                             NaN\n",
      "773                             ISS\n",
      "1625                       UN TARDY\n",
      "40              Suspension-InSchool\n",
      "394     Early Departure - Unexcused\n",
      "Name: abs_desc1, dtype: object\n"
     ]
    }
   ],
   "source": [
    "# unique number of abs_desc1\n",
    "print('Unique number of abs_desc1:', abscodes.abs_desc1.nunique(), '\\n')\n",
    "print('*-- Examples of abs_desc1 when absent == 1 --*')\n",
    "print(abscodes.abs_desc1[abscodes.absent==1].sample(5, random_state = 93))\n",
    "print('\\n*-- Examples of abs_desc1 when absent == 0 --*')\n",
    "print(abscodes.abs_desc1[abscodes.absent==0].sample(5, random_state = 93))"
   ]
  },
  {
   "cell_type": "code",
   "execution_count": 16,
   "metadata": {},
   "outputs": [
    {
     "name": "stdout",
     "output_type": "stream",
     "text": [
      "Unique number of abs_desc2: 84 \n",
      "\n",
      "----- Examples of abs_desc2 when absent == 1 -----\n",
      "1068    NaN\n",
      "1585    NaN\n",
      "1485    NaN\n",
      "190     NaN\n",
      "948     NaN\n",
      "Name: abs_desc2, dtype: object\n",
      "\n",
      "----- Examples of abs_desc2 when absent == 0 -----\n",
      "514         Early Dismissal\n",
      "773                     NaN\n",
      "1625                    NaN\n",
      "40      Suspension-InSchool\n",
      "394                     NaN\n",
      "Name: abs_desc2, dtype: object\n"
     ]
    }
   ],
   "source": [
    "# unique number of abs_desc2\n",
    "print('Unique number of abs_desc2:', abscodes.abs_desc2.nunique(), '\\n')\n",
    "print('----- Examples of abs_desc2 when absent == 1 -----')\n",
    "print(abscodes.abs_desc2[abscodes.absent==1].sample(5, random_state = 93))\n",
    "print('\\n----- Examples of abs_desc2 when absent == 0 -----')\n",
    "print(abscodes.abs_desc2[abscodes.absent==0].sample(5, random_state = 93))"
   ]
  },
  {
   "cell_type": "code",
   "execution_count": 17,
   "metadata": {},
   "outputs": [
    {
     "name": "stdout",
     "output_type": "stream",
     "text": [
      "Unique number of abs_code2: 234 \n",
      "\n",
      "----- Examples of abs_code2 when absent == 1 -----\n",
      "1068    OSS\n",
      "1585      V\n",
      "1485      U\n",
      "190       A\n",
      "948      MP\n",
      "Name: abs_code2, dtype: object\n",
      "\n",
      "----- Examples of abs_desc2 when absent == 0 -----\n",
      "514     EDU\n",
      "773       I\n",
      "1625      X\n",
      "40       SI\n",
      "394     D U\n",
      "Name: abs_code2, dtype: object\n"
     ]
    }
   ],
   "source": [
    "# unique number of abs_code2\n",
    "print('Unique number of abs_code2:', abscodes.abs_code2.nunique(), '\\n')\n",
    "print('----- Examples of abs_code2 when absent == 1 -----')\n",
    "print(abscodes.abs_code2[abscodes.absent==1].sample(5, random_state = 93))\n",
    "print('\\n----- Examples of abs_desc2 when absent == 0 -----')\n",
    "print(abscodes.abs_code2[abscodes.absent==0].sample(5, random_state = 93))"
   ]
  },
  {
   "cell_type": "markdown",
   "metadata": {},
   "source": [
    "# "
   ]
  },
  {
   "cell_type": "markdown",
   "metadata": {},
   "source": [
    "## 2. Preprocessing texts"
   ]
  },
  {
   "cell_type": "markdown",
   "metadata": {},
   "source": [
    "__We are going to use absence code and descriptions for classification. We will follow these steps:__     \n",
    "    \n",
    "__1) Concatenate abs_desc1 and abs_desc2 (for rows where abs_desc1 == abs_desc2,  just use abs_desc1)   \n",
    "2) Processing concatenated description using these steps:   \n",
    "$\\;\\;\\;\\;$ -Use lower case    \n",
    "$\\;\\;\\;\\;$ -Remove punctuations/special characeters   \n",
    "$\\;\\;\\;\\;$ -Lemmatize  \n",
    "$\\;\\;\\;\\;$ -Remove stop words   \n",
    "3) Concatenate abs_code2 to the processed descriptions.__ "
   ]
  },
  {
   "cell_type": "code",
   "execution_count": 18,
   "metadata": {},
   "outputs": [],
   "source": [
    "# Define special characters to remove from text\n",
    "remove = string.punctuation\n",
    "punct = r'[{}]'.format(remove)\n",
    "# print(punct)"
   ]
  },
  {
   "cell_type": "code",
   "execution_count": 19,
   "metadata": {},
   "outputs": [],
   "source": [
    "# In-school and out-of-school suspension distinction is important. So we won't remove these two stopwords.\n",
    "stop = set(stopwords.words('english'))  - {'in', 'out'}  \n",
    "# print(stop)"
   ]
  },
  {
   "cell_type": "code",
   "execution_count": 20,
   "metadata": {},
   "outputs": [],
   "source": [
    "# Create an instance of lemmatizer\n",
    "stemmer = WordNetLemmatizer()"
   ]
  },
  {
   "cell_type": "code",
   "execution_count": 21,
   "metadata": {},
   "outputs": [],
   "source": [
    "# Make sure abs_descs are set to type string\n",
    "abscodes.abs_desc1 = abscodes.abs_desc1.astype(str)\n",
    "abscodes.abs_desc2 = abscodes.abs_desc2.astype(str)"
   ]
  },
  {
   "cell_type": "code",
   "execution_count": 22,
   "metadata": {},
   "outputs": [],
   "source": [
    "# Clean abs_desc1\n",
    "clean_abs_desc1_list = []\n",
    "\n",
    "\n",
    "for i in range(abscodes.shape[0]):\n",
    "    \n",
    "    # Make it all lower case\n",
    "    clean_abs_desc1 =  abscodes.abs_desc1[i].lower()\n",
    "    \n",
    "    # Remove punctations\n",
    "    clean_abs_desc1 = re.sub(punct, \" \",clean_abs_desc1)\n",
    "\n",
    "    # Lemmatize words\n",
    "    clean_abs_desc1 = [stemmer.lemmatize(word) for word in clean_abs_desc1.split()]\n",
    "        \n",
    "    # Remove stopwords\n",
    "    clean_abs_desc1 = ' '.join([word for word in clean_abs_desc1 if word not in stop])\n",
    "    \n",
    "    # Append the clean abs description to the list\n",
    "    clean_abs_desc1_list.append(clean_abs_desc1)\n",
    "\n",
    "# Combine with original dataset    \n",
    "abscodes['clean_abs_desc1'] = clean_abs_desc1_list"
   ]
  },
  {
   "cell_type": "code",
   "execution_count": 23,
   "metadata": {},
   "outputs": [],
   "source": [
    "# Clean abs_desc2\n",
    "clean_abs_desc2_list = []\n",
    "\n",
    "for i in range(abscodes.shape[0]):\n",
    "    \n",
    "    clean_abs_desc2 =  abscodes.abs_desc2[i].lower()\n",
    "    \n",
    "    # Remove punctations\n",
    "    clean_abs_desc2 = re.sub(punct, \" \",clean_abs_desc2)\n",
    "    \n",
    "    # Lemmatize words\n",
    "    clean_abs_desc2 = [stemmer.lemmatize(word) for word in clean_abs_desc2.split()]\n",
    "\n",
    "    # Remove stopwords\n",
    "    clean_abs_desc2 = ' '.join([word for word in clean_abs_desc2 if word not in stop])\n",
    "    \n",
    "    # Append the clean abs description to the list\n",
    "    clean_abs_desc2_list.append(clean_abs_desc2)\n",
    "\n",
    "# Combine with original dataset    \n",
    "abscodes['clean_abs_desc2'] = clean_abs_desc2_list"
   ]
  },
  {
   "cell_type": "code",
   "execution_count": 24,
   "metadata": {},
   "outputs": [
    {
     "name": "stderr",
     "output_type": "stream",
     "text": [
      "/Users/jil380/anaconda3/lib/python3.6/site-packages/ipykernel_launcher.py:4: SettingWithCopyWarning: \n",
      "A value is trying to be set on a copy of a slice from a DataFrame\n",
      "\n",
      "See the caveats in the documentation: https://pandas.pydata.org/pandas-docs/stable/user_guide/indexing.html#returning-a-view-versus-a-copy\n",
      "  after removing the cwd from sys.path.\n"
     ]
    }
   ],
   "source": [
    "# If abs_desc1 == abs_desc2, replace abs_desc2 to be an emtpry string before we concatenate them \n",
    "for i in range(abscodes.shape[0]):\n",
    "    if abscodes.clean_abs_desc1[i] == abscodes.clean_abs_desc2[i]:\n",
    "        abscodes.clean_abs_desc2[i] = ''"
   ]
  },
  {
   "cell_type": "code",
   "execution_count": 25,
   "metadata": {},
   "outputs": [],
   "source": [
    "# Now, we want to concatenate abs_code2, clean_abs_desc1, and clean_abs_desc2. \n",
    "# Since abs_code2 are just codes, use it as is.\n",
    "abscodes.abs_code2 = abscodes.abs_code2.astype(str)\n",
    "abscodes['clean_abs'] = abscodes['abs_code2'].replace('nan', '') + ' ' + abscodes['clean_abs_desc1'].replace('nan', '') + ' ' + abscodes['clean_abs_desc2'].replace('nan', '')"
   ]
  },
  {
   "cell_type": "code",
   "execution_count": 26,
   "metadata": {},
   "outputs": [
    {
     "data": {
      "text/html": [
       "<div>\n",
       "<style scoped>\n",
       "    .dataframe tbody tr th:only-of-type {\n",
       "        vertical-align: middle;\n",
       "    }\n",
       "\n",
       "    .dataframe tbody tr th {\n",
       "        vertical-align: top;\n",
       "    }\n",
       "\n",
       "    .dataframe thead th {\n",
       "        text-align: right;\n",
       "    }\n",
       "</style>\n",
       "<table border=\"1\" class=\"dataframe\">\n",
       "  <thead>\n",
       "    <tr style=\"text-align: right;\">\n",
       "      <th></th>\n",
       "      <th>index</th>\n",
       "      <th>pid</th>\n",
       "      <th>local_excused</th>\n",
       "      <th>category1</th>\n",
       "      <th>abs_code1</th>\n",
       "      <th>abs_desc1</th>\n",
       "      <th>category2</th>\n",
       "      <th>abs_code2</th>\n",
       "      <th>abs_desc2</th>\n",
       "      <th>abs_type</th>\n",
       "      <th>absent</th>\n",
       "      <th>excused</th>\n",
       "      <th>unexcused</th>\n",
       "      <th>suspended</th>\n",
       "      <th>dw_code</th>\n",
       "      <th>clean_abs_desc1</th>\n",
       "      <th>clean_abs_desc2</th>\n",
       "      <th>clean_abs</th>\n",
       "    </tr>\n",
       "  </thead>\n",
       "  <tbody>\n",
       "    <tr>\n",
       "      <th>1123</th>\n",
       "      <td>1182</td>\n",
       "      <td>47795</td>\n",
       "      <td>Excused</td>\n",
       "      <td>AbsenceReason</td>\n",
       "      <td>ALLREASON</td>\n",
       "      <td>PARTIAL ABSENCE-EXCUSED</td>\n",
       "      <td>AbsenceType</td>\n",
       "      <td>PE</td>\n",
       "      <td>nan</td>\n",
       "      <td>2</td>\n",
       "      <td>1.0</td>\n",
       "      <td>1.0</td>\n",
       "      <td>0.0</td>\n",
       "      <td>0.0</td>\n",
       "      <td>21100.0</td>\n",
       "      <td>partial absence excused</td>\n",
       "      <td>nan</td>\n",
       "      <td>PE partial absence excused</td>\n",
       "    </tr>\n",
       "    <tr>\n",
       "      <th>103</th>\n",
       "      <td>162</td>\n",
       "      <td>47720</td>\n",
       "      <td>Unexcused</td>\n",
       "      <td>AbsenceReason</td>\n",
       "      <td>ALLREASON</td>\n",
       "      <td>Excused Late/Tardy</td>\n",
       "      <td>AbsenceType</td>\n",
       "      <td>7</td>\n",
       "      <td>nan</td>\n",
       "      <td>3</td>\n",
       "      <td>0.0</td>\n",
       "      <td>0.0</td>\n",
       "      <td>0.0</td>\n",
       "      <td>0.0</td>\n",
       "      <td>30000.0</td>\n",
       "      <td>excused late tardy</td>\n",
       "      <td>nan</td>\n",
       "      <td>7 excused late tardy</td>\n",
       "    </tr>\n",
       "    <tr>\n",
       "      <th>1445</th>\n",
       "      <td>1508</td>\n",
       "      <td>47795</td>\n",
       "      <td>Unexcused</td>\n",
       "      <td>AbsenceReason</td>\n",
       "      <td>ALLREASON</td>\n",
       "      <td>TARDY-UNEXCUSED</td>\n",
       "      <td>AbsenceType</td>\n",
       "      <td>TU</td>\n",
       "      <td>nan</td>\n",
       "      <td>3</td>\n",
       "      <td>0.0</td>\n",
       "      <td>0.0</td>\n",
       "      <td>0.0</td>\n",
       "      <td>0.0</td>\n",
       "      <td>30000.0</td>\n",
       "      <td>tardy unexcused</td>\n",
       "      <td>nan</td>\n",
       "      <td>TU tardy unexcused</td>\n",
       "    </tr>\n",
       "    <tr>\n",
       "      <th>693</th>\n",
       "      <td>752</td>\n",
       "      <td>48793</td>\n",
       "      <td>Family Emergency</td>\n",
       "      <td>AbsenceReason</td>\n",
       "      <td>ALLREASON</td>\n",
       "      <td>Family Emergency-1/2</td>\n",
       "      <td>AbsenceType</td>\n",
       "      <td>HFE</td>\n",
       "      <td>Family Emergency-1/2</td>\n",
       "      <td>2</td>\n",
       "      <td>1.0</td>\n",
       "      <td>1.0</td>\n",
       "      <td>0.0</td>\n",
       "      <td>0.0</td>\n",
       "      <td>21100.0</td>\n",
       "      <td>family emergency 1 2</td>\n",
       "      <td></td>\n",
       "      <td>HFE family emergency 1 2</td>\n",
       "    </tr>\n",
       "    <tr>\n",
       "      <th>289</th>\n",
       "      <td>348</td>\n",
       "      <td>47720</td>\n",
       "      <td>Unexcused</td>\n",
       "      <td>AbsenceReason</td>\n",
       "      <td>ALLREASON</td>\n",
       "      <td>Medical</td>\n",
       "      <td>AbsenceType</td>\n",
       "      <td>B</td>\n",
       "      <td>nan</td>\n",
       "      <td>2</td>\n",
       "      <td>1.0</td>\n",
       "      <td>0.0</td>\n",
       "      <td>1.0</td>\n",
       "      <td>0.0</td>\n",
       "      <td>21010.0</td>\n",
       "      <td>medical</td>\n",
       "      <td>nan</td>\n",
       "      <td>B medical</td>\n",
       "    </tr>\n",
       "  </tbody>\n",
       "</table>\n",
       "</div>"
      ],
      "text/plain": [
       "      index    pid     local_excused      category1  abs_code1  \\\n",
       "1123   1182  47795           Excused  AbsenceReason  ALLREASON   \n",
       "103     162  47720         Unexcused  AbsenceReason  ALLREASON   \n",
       "1445   1508  47795         Unexcused  AbsenceReason  ALLREASON   \n",
       "693     752  48793  Family Emergency  AbsenceReason  ALLREASON   \n",
       "289     348  47720         Unexcused  AbsenceReason  ALLREASON   \n",
       "\n",
       "                    abs_desc1    category2 abs_code2             abs_desc2  \\\n",
       "1123  PARTIAL ABSENCE-EXCUSED  AbsenceType        PE                   nan   \n",
       "103        Excused Late/Tardy  AbsenceType         7                   nan   \n",
       "1445          TARDY-UNEXCUSED  AbsenceType        TU                   nan   \n",
       "693      Family Emergency-1/2  AbsenceType       HFE  Family Emergency-1/2   \n",
       "289                   Medical  AbsenceType         B                   nan   \n",
       "\n",
       "     abs_type  absent  excused  unexcused  suspended  dw_code  \\\n",
       "1123        2     1.0      1.0        0.0        0.0  21100.0   \n",
       "103         3     0.0      0.0        0.0        0.0  30000.0   \n",
       "1445        3     0.0      0.0        0.0        0.0  30000.0   \n",
       "693         2     1.0      1.0        0.0        0.0  21100.0   \n",
       "289         2     1.0      0.0        1.0        0.0  21010.0   \n",
       "\n",
       "              clean_abs_desc1 clean_abs_desc2                    clean_abs  \n",
       "1123  partial absence excused             nan  PE partial absence excused   \n",
       "103        excused late tardy             nan        7 excused late tardy   \n",
       "1445          tardy unexcused             nan          TU tardy unexcused   \n",
       "693      family emergency 1 2                    HFE family emergency 1 2   \n",
       "289                   medical             nan                   B medical   "
      ]
     },
     "execution_count": 26,
     "metadata": {},
     "output_type": "execute_result"
    }
   ],
   "source": [
    "abscodes.sample(5, random_state=92)"
   ]
  },
  {
   "cell_type": "markdown",
   "metadata": {},
   "source": [
    "#  \n",
    "## 3. Create a bag-of-words model"
   ]
  },
  {
   "cell_type": "markdown",
   "metadata": {},
   "source": [
    "#### 3.1 Split train and test data"
   ]
  },
  {
   "cell_type": "code",
   "execution_count": 27,
   "metadata": {},
   "outputs": [],
   "source": [
    "# Separate our target variable from the text feature\n",
    "x = abscodes['clean_abs']\n",
    "y = abscodes['absent']"
   ]
  },
  {
   "cell_type": "code",
   "execution_count": 28,
   "metadata": {},
   "outputs": [],
   "source": [
    "x_train, x_test, y_train, y_test = train_test_split(x, y, test_size = 0.3, random_state = 91)"
   ]
  },
  {
   "cell_type": "code",
   "execution_count": 29,
   "metadata": {},
   "outputs": [
    {
     "name": "stdout",
     "output_type": "stream",
     "text": [
      "(1197,) (514,) (1197,) (514,)\n"
     ]
    }
   ],
   "source": [
    "print(x_train.shape, x_test.shape, y_train.shape, y_test.shape)"
   ]
  },
  {
   "cell_type": "markdown",
   "metadata": {},
   "source": [
    "#### 3.2  Vectorize trainset using TF-IDF vectorizer"
   ]
  },
  {
   "cell_type": "code",
   "execution_count": 30,
   "metadata": {},
   "outputs": [],
   "source": [
    "# Create an instance of the vectorizer\n",
    "transformer = TfidfVectorizer()\n",
    "\n",
    "# Fit the transfomer to x_train\n",
    "x_tfidf = transformer.fit_transform(x_train).toarray()\n",
    "\n",
    "# Transform the x_test using the TFIDF vectorizer \n",
    "x_test_tfidf = transformer.transform(x_test).toarray()"
   ]
  },
  {
   "cell_type": "markdown",
   "metadata": {},
   "source": [
    "#  \n",
    "## 4. Build Models"
   ]
  },
  {
   "cell_type": "markdown",
   "metadata": {},
   "source": [
    "#### 4.1 Random Forest Classifier"
   ]
  },
  {
   "cell_type": "code",
   "execution_count": 31,
   "metadata": {},
   "outputs": [
    {
     "name": "stdout",
     "output_type": "stream",
     "text": [
      "Training Accuracy Score: 98.16 %\n",
      "Test Accuracy Score: 96.3 %\n"
     ]
    }
   ],
   "source": [
    "# Create an instance of RF Classifier\n",
    "rf = RandomForestClassifier(random_state = 91)\n",
    "\n",
    "# Train on training set\n",
    "rf.fit(x_tfidf, y_train)\n",
    "\n",
    "# Predict the classifier\n",
    "rf_y_pred = rf.predict(x_test_tfidf)\n",
    "rf_y_pred_train = rf.predict(x_tfidf)\n",
    "\n",
    "# Compare the training and test accuracy score\n",
    "print(\"Training Accuracy Score:\", round(accuracy_score(y_train,rf_y_pred_train)*100,2), \"%\")\n",
    "print(\"Test Accuracy Score:\", round(accuracy_score(y_test,rf_y_pred)*100,2), \"%\")"
   ]
  },
  {
   "cell_type": "code",
   "execution_count": 32,
   "metadata": {
    "scrolled": true
   },
   "outputs": [
    {
     "name": "stdout",
     "output_type": "stream",
     "text": [
      "1.0    326\n",
      "0.0    188\n",
      "Name: absent, dtype: int64\n"
     ]
    },
    {
     "data": {
      "image/png": "[encoded data removed]",
      "text/plain": [
       "<Figure size 432x288 with 2 Axes>"
      ]
     },
     "metadata": {},
     "output_type": "display_data"
    }
   ],
   "source": [
    "# Let's create confusion matrix \n",
    "cm = confusion_matrix(y_test, rf_y_pred)\n",
    "sns.heatmap(cm, square=True, annot=True, fmt=\"d\")\n",
    "\n",
    "plt.xlabel('Predicted Label')\n",
    "plt.ylabel('True Label')\n",
    "\n",
    "print(y_test.value_counts())"
   ]
  },
  {
   "cell_type": "markdown",
   "metadata": {},
   "source": [
    "99% (186/188)  of true_label==0 was predicted correctly. In contrast, only 95% (309/326) of true_label==1 was correct."
   ]
  },
  {
   "cell_type": "code",
   "execution_count": 33,
   "metadata": {},
   "outputs": [],
   "source": [
    "# Create test_df to see which clean_abs the model is predicting inaccurately\n",
    "test_df = pd.DataFrame(\n",
    "    {'clean_abs' : x_test,\n",
    "     'true_label': y_test,\n",
    "     'predicted' : rf_y_pred\n",
    "    })"
   ]
  },
  {
   "cell_type": "code",
   "execution_count": 34,
   "metadata": {},
   "outputs": [
    {
     "data": {
      "text/html": [
       "<div>\n",
       "<style scoped>\n",
       "    .dataframe tbody tr th:only-of-type {\n",
       "        vertical-align: middle;\n",
       "    }\n",
       "\n",
       "    .dataframe tbody tr th {\n",
       "        vertical-align: top;\n",
       "    }\n",
       "\n",
       "    .dataframe thead th {\n",
       "        text-align: right;\n",
       "    }\n",
       "</style>\n",
       "<table border=\"1\" class=\"dataframe\">\n",
       "  <thead>\n",
       "    <tr style=\"text-align: right;\">\n",
       "      <th></th>\n",
       "      <th>clean_abs</th>\n",
       "      <th>true_label</th>\n",
       "      <th>predicted</th>\n",
       "    </tr>\n",
       "  </thead>\n",
       "  <tbody>\n",
       "    <tr>\n",
       "      <th>1173</th>\n",
       "      <td>PRU partial absence unexcused</td>\n",
       "      <td>0.0</td>\n",
       "      <td>1.0</td>\n",
       "    </tr>\n",
       "    <tr>\n",
       "      <th>1247</th>\n",
       "      <td>R school rel</td>\n",
       "      <td>0.0</td>\n",
       "      <td>1.0</td>\n",
       "    </tr>\n",
       "    <tr>\n",
       "      <th>212</th>\n",
       "      <td>A U</td>\n",
       "      <td>1.0</td>\n",
       "      <td>0.0</td>\n",
       "    </tr>\n",
       "    <tr>\n",
       "      <th>241</th>\n",
       "      <td>AE</td>\n",
       "      <td>1.0</td>\n",
       "      <td>0.0</td>\n",
       "    </tr>\n",
       "    <tr>\n",
       "      <th>297</th>\n",
       "      <td>B b115</td>\n",
       "      <td>1.0</td>\n",
       "      <td>0.0</td>\n",
       "    </tr>\n",
       "    <tr>\n",
       "      <th>298</th>\n",
       "      <td>B tardy ex</td>\n",
       "      <td>1.0</td>\n",
       "      <td>0.0</td>\n",
       "    </tr>\n",
       "    <tr>\n",
       "      <th>563</th>\n",
       "      <td>F fire</td>\n",
       "      <td>1.0</td>\n",
       "      <td>0.0</td>\n",
       "    </tr>\n",
       "    <tr>\n",
       "      <th>815</th>\n",
       "      <td>J job shadowing</td>\n",
       "      <td>1.0</td>\n",
       "      <td>0.0</td>\n",
       "    </tr>\n",
       "    <tr>\n",
       "      <th>987</th>\n",
       "      <td>N power</td>\n",
       "      <td>1.0</td>\n",
       "      <td>0.0</td>\n",
       "    </tr>\n",
       "    <tr>\n",
       "      <th>1023</th>\n",
       "      <td>NP power</td>\n",
       "      <td>1.0</td>\n",
       "      <td>0.0</td>\n",
       "    </tr>\n",
       "    <tr>\n",
       "      <th>1037</th>\n",
       "      <td>O susp</td>\n",
       "      <td>1.0</td>\n",
       "      <td>0.0</td>\n",
       "    </tr>\n",
       "    <tr>\n",
       "      <th>1038</th>\n",
       "      <td>O susp</td>\n",
       "      <td>1.0</td>\n",
       "      <td>0.0</td>\n",
       "    </tr>\n",
       "    <tr>\n",
       "      <th>1189</th>\n",
       "      <td>PU period unauthorized</td>\n",
       "      <td>1.0</td>\n",
       "      <td>0.0</td>\n",
       "    </tr>\n",
       "    <tr>\n",
       "      <th>1292</th>\n",
       "      <td>S sch func</td>\n",
       "      <td>1.0</td>\n",
       "      <td>0.0</td>\n",
       "    </tr>\n",
       "    <tr>\n",
       "      <th>1689</th>\n",
       "      <td>TD  technical difficulty</td>\n",
       "      <td>1.0</td>\n",
       "      <td>0.0</td>\n",
       "    </tr>\n",
       "    <tr>\n",
       "      <th>1690</th>\n",
       "      <td>TD  technical difficulty</td>\n",
       "      <td>1.0</td>\n",
       "      <td>0.0</td>\n",
       "    </tr>\n",
       "    <tr>\n",
       "      <th>1486</th>\n",
       "      <td>U</td>\n",
       "      <td>1.0</td>\n",
       "      <td>0.0</td>\n",
       "    </tr>\n",
       "    <tr>\n",
       "      <th>1666</th>\n",
       "      <td>ZZ excused medical partial</td>\n",
       "      <td>1.0</td>\n",
       "      <td>0.0</td>\n",
       "    </tr>\n",
       "    <tr>\n",
       "      <th>1668</th>\n",
       "      <td>ZZ excused medical partial</td>\n",
       "      <td>1.0</td>\n",
       "      <td>0.0</td>\n",
       "    </tr>\n",
       "  </tbody>\n",
       "</table>\n",
       "</div>"
      ],
      "text/plain": [
       "                           clean_abs  true_label  predicted\n",
       "1173  PRU partial absence unexcused          0.0        1.0\n",
       "1247                   R school rel          0.0        1.0\n",
       "212                            A U           1.0        0.0\n",
       "241                             AE           1.0        0.0\n",
       "297                          B b115          1.0        0.0\n",
       "298                      B tardy ex          1.0        0.0\n",
       "563                          F fire          1.0        0.0\n",
       "815                 J job shadowing          1.0        0.0\n",
       "987                         N power          1.0        0.0\n",
       "1023                       NP power          1.0        0.0\n",
       "1037                         O susp          1.0        0.0\n",
       "1038                         O susp          1.0        0.0\n",
       "1189         PU period unauthorized          1.0        0.0\n",
       "1292                     S sch func          1.0        0.0\n",
       "1689        TD  technical difficulty         1.0        0.0\n",
       "1690        TD  technical difficulty         1.0        0.0\n",
       "1486                             U           1.0        0.0\n",
       "1666     ZZ excused medical partial          1.0        0.0\n",
       "1668     ZZ excused medical partial          1.0        0.0"
      ]
     },
     "execution_count": 34,
     "metadata": {},
     "output_type": "execute_result"
    }
   ],
   "source": [
    "# Get rows where prediction was inaccurate.\n",
    "test_df[test_df.true_label != test_df.predicted].sort_values(['true_label','clean_abs'])"
   ]
  },
  {
   "cell_type": "markdown",
   "metadata": {},
   "source": [
    "I am surprised to find 'O susp' was predicted 'absent==0'. When coded as 'O' instead of 'OSS', the model doesn't know it is Out of school Suspension."
   ]
  },
  {
   "cell_type": "markdown",
   "metadata": {},
   "source": [
    "# "
   ]
  },
  {
   "cell_type": "markdown",
   "metadata": {},
   "source": [
    "#### 4.2 Logistic Regression"
   ]
  },
  {
   "cell_type": "code",
   "execution_count": 35,
   "metadata": {},
   "outputs": [
    {
     "name": "stdout",
     "output_type": "stream",
     "text": [
      "Training Accuracy Score: 98.16 %\n",
      "Test Accuracy Score: 94.55 %\n"
     ]
    }
   ],
   "source": [
    "# Logistic regression model\n",
    "logreg = LogisticRegression()\n",
    "\n",
    "# Fit training data\n",
    "logreg.fit(x_tfidf, y_train)\n",
    "\n",
    "# Predict \n",
    "logreg_y_pred = logreg.predict(x_test_tfidf)\n",
    "logreg_y_pred_train = rf.predict(x_tfidf)\n",
    "\n",
    "print(\"Training Accuracy Score:\", round(accuracy_score(y_train,logreg_y_pred_train)*100,2), \"%\")\n",
    "print(\"Test Accuracy Score:\", round(accuracy_score(y_test,logreg_y_pred)*100,2), \"%\")"
   ]
  },
  {
   "cell_type": "code",
   "execution_count": 36,
   "metadata": {},
   "outputs": [
    {
     "data": {
      "text/plain": [
       "Text(83.40000000000006, 0.5, 'True Label')"
      ]
     },
     "execution_count": 36,
     "metadata": {},
     "output_type": "execute_result"
    },
    {
     "data": {
      "image/png": "[encoded data removed]",
      "text/plain": [
       "<Figure size 432x288 with 2 Axes>"
      ]
     },
     "metadata": {},
     "output_type": "display_data"
    }
   ],
   "source": [
    "# Let's create confusion matrix \n",
    "cm = confusion_matrix(y_test, logreg_y_pred)\n",
    "sns.heatmap(cm, square=True, annot=True, fmt=\"d\")\n",
    "\n",
    "plt.xlabel('Predicted Label')\n",
    "plt.ylabel('True Label')"
   ]
  },
  {
   "cell_type": "markdown",
   "metadata": {},
   "source": [
    "Logistic regression yields the same training accuracy but lower test accuracy, compared to the random forest classfier."
   ]
  },
  {
   "cell_type": "markdown",
   "metadata": {},
   "source": [
    "#  \n",
    "#### 4.3 Naive Bayes"
   ]
  },
  {
   "cell_type": "code",
   "execution_count": 39,
   "metadata": {},
   "outputs": [
    {
     "name": "stdout",
     "output_type": "stream",
     "text": [
      "Training Accuracy Score: 81.04 %\n",
      "Test Accuracy Score: 77.24 %\n"
     ]
    }
   ],
   "source": [
    "nb = GaussianNB(); \n",
    "nb.fit(x_tfidf, y_train) \n",
    "  \n",
    "# Predicting test set results \n",
    "nb_y_pred = nb.predict(x_test_tfidf) \n",
    "nb_y_pred_train = nb.predict(x_tfidf)\n",
    "\n",
    "print(\"Training Accuracy Score:\", round(accuracy_score(y_train,nb_y_pred_train)*100,2), \"%\")\n",
    "print(\"Test Accuracy Score:\", round(accuracy_score(y_test,nb_y_pred)*100,2), \"%\")"
   ]
  },
  {
   "cell_type": "markdown",
   "metadata": {},
   "source": [
    "It assumes that the features are independent of each other. I believe the poor performance of naive bayes is due to the violation of this assumption."
   ]
  },
  {
   "cell_type": "markdown",
   "metadata": {},
   "source": [
    "#     \n",
    "#### 4.4 LDA"
   ]
  },
  {
   "cell_type": "code",
   "execution_count": 40,
   "metadata": {},
   "outputs": [
    {
     "name": "stdout",
     "output_type": "stream",
     "text": [
      "Training Accuracy Score: 97.83 %\n",
      "Test Accuracy Score: 95.14 %\n"
     ]
    },
    {
     "name": "stderr",
     "output_type": "stream",
     "text": [
      "/Users/jil380/anaconda3/lib/python3.6/site-packages/sklearn/discriminant_analysis.py:388: UserWarning: Variables are collinear.\n",
      "  warnings.warn(\"Variables are collinear.\")\n"
     ]
    }
   ],
   "source": [
    "lda = LinearDiscriminantAnalysis()\n",
    "lda.fit(x_tfidf,y_train)\n",
    "\n",
    "lda_y_pred = lda.predict(x_test_tfidf) \n",
    "lda_y_pred_train = lda.predict(x_tfidf)\n",
    "\n",
    "print(\"Training Accuracy Score:\", round(accuracy_score(y_train,lda_y_pred_train)*100,2), \"%\")\n",
    "print(\"Test Accuracy Score:\", round(accuracy_score(y_test,lda_y_pred)*100,2), \"%\")"
   ]
  },
  {
   "cell_type": "markdown",
   "metadata": {},
   "source": [
    "__Comments:__ \n",
    "1. I wonder if lemmatizing is hurting the model since the absence description is already succinct. \n",
    "   I tried it without lemmatization and it didn't improve the model at all.\n",
    "2. I tried removing numbers from the abs_desc while preprocessing and it hurt performance a lot.\n",
    "3. I also attempted using countvectorizer instead of the tf-idf vectorizer but it didn't improve performance.\n",
    "4. To confirm that it was a good choice to not remove 'in' and 'out' when removing all the other stopwords, I also ran a model that removed them and the performance decreased."
   ]
  },
  {
   "cell_type": "markdown",
   "metadata": {},
   "source": [
    "# "
   ]
  },
  {
   "cell_type": "markdown",
   "metadata": {},
   "source": [
    "## 5. Hyper Parameter Tuning"
   ]
  },
  {
   "cell_type": "markdown",
   "metadata": {},
   "source": [
    "We should tune hyper parameters in the model to improve the performance of random forest classifier, which had the highest performance."
   ]
  },
  {
   "cell_type": "code",
   "execution_count": 41,
   "metadata": {},
   "outputs": [],
   "source": [
    "n_estimator_range = np.arange(1, 700, 100)\n",
    "train_score, val_score = validation_curve(\n",
    "                                RandomForestClassifier(),\n",
    "                                X = x_tfidf, y = y_train, \n",
    "                                param_name = 'n_estimators', \n",
    "                                param_range = n_estimator_range,\n",
    "                                cv = 5)"
   ]
  },
  {
   "cell_type": "code",
   "execution_count": 42,
   "metadata": {},
   "outputs": [
    {
     "data": {
      "image/png": "[encoded data removed]",
      "text/plain": [
       "<Figure size 432x288 with 1 Axes>"
      ]
     },
     "metadata": {},
     "output_type": "display_data"
    }
   ],
   "source": [
    "plt.plot(n_estimator_range, np.mean(train_score, 1), color='blue', label='training score')\n",
    "plt.plot(n_estimator_range, np.mean(val_score, 1), color='red', label='validation score')\n",
    "plt.legend(loc='best')\n",
    "plt.ylim(0.9, 1)\n",
    "plt.xlabel('n_estimators')\n",
    "plt.ylabel('score');"
   ]
  },
  {
   "cell_type": "code",
   "execution_count": 43,
   "metadata": {},
   "outputs": [],
   "source": [
    "# Tuning max_depth\n",
    "max_depth_range = np.arange(1, 500, 5)\n",
    "train_score, val_score = validation_curve(\n",
    "                                RandomForestClassifier(),\n",
    "                                X = x_tfidf, y = y_train, \n",
    "                                param_name = 'max_depth', \n",
    "                                param_range = max_depth_range,\n",
    "                                cv = 5)"
   ]
  },
  {
   "cell_type": "code",
   "execution_count": 44,
   "metadata": {},
   "outputs": [
    {
     "data": {
      "image/png": "[encoded data removed]",
      "text/plain": [
       "<Figure size 432x288 with 1 Axes>"
      ]
     },
     "metadata": {},
     "output_type": "display_data"
    }
   ],
   "source": [
    "plt.plot(max_depth_range, np.mean(train_score, 1), color='blue', label='training score')\n",
    "plt.plot(max_depth_range, np.mean(val_score, 1), color='red', label='validation score')\n",
    "plt.legend(loc='best')\n",
    "plt.ylim(0.6, 1)\n",
    "plt.xlabel('max_depth')\n",
    "plt.ylabel('score');"
   ]
  },
  {
   "cell_type": "code",
   "execution_count": 45,
   "metadata": {},
   "outputs": [
    {
     "data": {
      "image/png": "[encoded data removed]",
      "text/plain": [
       "<Figure size 432x288 with 1 Axes>"
      ]
     },
     "metadata": {},
     "output_type": "display_data"
    }
   ],
   "source": [
    "plt.plot(max_depth_range, np.mean(train_score, 1), color='blue', label='training score')\n",
    "plt.plot(max_depth_range, np.mean(val_score, 1), color='red', label='validation score')\n",
    "plt.legend(loc='best')\n",
    "plt.ylim(0.9, 1)\n",
    "plt.xlabel('max_depth')\n",
    "plt.ylabel('score');"
   ]
  },
  {
   "cell_type": "code",
   "execution_count": 46,
   "metadata": {},
   "outputs": [],
   "source": [
    "# Tuning min_sample_leaf\n",
    "min_samples_leaf_range = np.arange(1, 10, 1)\n",
    "train_score, val_score = validation_curve(\n",
    "                                RandomForestClassifier(),\n",
    "                                X = x_tfidf, y = y_train, \n",
    "                                param_name = 'min_samples_leaf', \n",
    "                                param_range = min_samples_leaf_range,\n",
    "                                cv = 5)"
   ]
  },
  {
   "cell_type": "code",
   "execution_count": 47,
   "metadata": {},
   "outputs": [
    {
     "data": {
      "image/png": "[encoded data removed]",
      "text/plain": [
       "<Figure size 432x288 with 1 Axes>"
      ]
     },
     "metadata": {},
     "output_type": "display_data"
    }
   ],
   "source": [
    "plt.plot(min_samples_leaf_range, np.mean(train_score, 1), color='blue', label='training score')\n",
    "plt.plot(min_samples_leaf_range, np.mean(val_score, 1), color='red', label='validation score')\n",
    "plt.legend(loc='best')\n",
    "plt.ylim(0.75, 1)\n",
    "plt.xlabel('min_samples_leaf')\n",
    "plt.ylabel('score');"
   ]
  },
  {
   "cell_type": "code",
   "execution_count": 56,
   "metadata": {},
   "outputs": [],
   "source": [
    "# Tuning min_sample_leaf\n",
    "min_samples_split_range = np.arange(2, 10, 1)\n",
    "train_score, val_score = validation_curve(\n",
    "                                RandomForestClassifier(),\n",
    "                                X = x_tfidf, y = y_train, \n",
    "                                param_name = 'min_samples_split', \n",
    "                                param_range = min_samples_split_range,\n",
    "                                cv = 5)"
   ]
  },
  {
   "cell_type": "code",
   "execution_count": 57,
   "metadata": {},
   "outputs": [
    {
     "data": {
      "image/png": "[encoded data removed]",
      "text/plain": [
       "<Figure size 432x288 with 1 Axes>"
      ]
     },
     "metadata": {},
     "output_type": "display_data"
    }
   ],
   "source": [
    "plt.plot(min_samples_split_range, np.mean(train_score, 1), color='blue', label='training score')\n",
    "plt.plot(min_samples_split_range, np.mean(val_score, 1), color='red', label='validation score')\n",
    "plt.legend(loc='best')\n",
    "plt.ylim(0.92, 1)\n",
    "plt.xlabel('min_samples_split')\n",
    "plt.ylabel('score');"
   ]
  },
  {
   "cell_type": "markdown",
   "metadata": {},
   "source": [
    "#### Let's use the new model with tuned hyper parameters"
   ]
  },
  {
   "cell_type": "code",
   "execution_count": 58,
   "metadata": {},
   "outputs": [
    {
     "name": "stdout",
     "output_type": "stream",
     "text": [
      "Training Accuracy Score: 98.16 %\n",
      "Test Accuracy Score: 96.69 %\n"
     ]
    }
   ],
   "source": [
    "# Create an instance of RF Classifier\n",
    "rf2= RandomForestClassifier(min_samples_split=5,\n",
    "                            random_state = 91)\n",
    "\n",
    "# Train on training set\n",
    "rf2.fit(x_tfidf, y_train)\n",
    "\n",
    "# Predict the classifier\n",
    "rf2_y_pred = rf2.predict(x_test_tfidf)\n",
    "rf2_y_pred_train = rf2.predict(x_tfidf)\n",
    "\n",
    "# Compare the training and test accuracy score\n",
    "print(\"Training Accuracy Score:\", round(accuracy_score(y_train,rf2_y_pred_train)*100,2), \"%\")\n",
    "print(\"Test Accuracy Score:\", round(accuracy_score(y_test,rf2_y_pred)*100,2), \"%\")"
   ]
  },
  {
   "cell_type": "markdown",
   "metadata": {},
   "source": [
    "The default values for the random forest classifier was good enough. Even after tuning the parameters, the test accuracy score only improved by 0.3%."
   ]
  },
  {
   "cell_type": "code",
   "execution_count": 59,
   "metadata": {},
   "outputs": [
    {
     "data": {
      "text/plain": [
       "Text(83.40000000000006, 0.5, 'True Label')"
      ]
     },
     "execution_count": 59,
     "metadata": {},
     "output_type": "execute_result"
    },
    {
     "data": {
      "image/png": "[encoded data removed]",
      "text/plain": [
       "<Figure size 432x288 with 2 Axes>"
      ]
     },
     "metadata": {},
     "output_type": "display_data"
    }
   ],
   "source": [
    "# Let's create confusion matrix \n",
    "cm = confusion_matrix(y_test, rf2_y_pred)\n",
    "sns.heatmap(cm, square=True, annot=True, fmt=\"d\")\n",
    "\n",
    "plt.xlabel('Predicted Label')\n",
    "plt.ylabel('True Label')"
   ]
  },
  {
   "cell_type": "code",
   "execution_count": 60,
   "metadata": {},
   "outputs": [
    {
     "data": {
      "text/html": [
       "<div>\n",
       "<style scoped>\n",
       "    .dataframe tbody tr th:only-of-type {\n",
       "        vertical-align: middle;\n",
       "    }\n",
       "\n",
       "    .dataframe tbody tr th {\n",
       "        vertical-align: top;\n",
       "    }\n",
       "\n",
       "    .dataframe thead th {\n",
       "        text-align: right;\n",
       "    }\n",
       "</style>\n",
       "<table border=\"1\" class=\"dataframe\">\n",
       "  <thead>\n",
       "    <tr style=\"text-align: right;\">\n",
       "      <th></th>\n",
       "      <th>clean_abs</th>\n",
       "      <th>true_label</th>\n",
       "      <th>predicted</th>\n",
       "    </tr>\n",
       "  </thead>\n",
       "  <tbody>\n",
       "    <tr>\n",
       "      <th>1173</th>\n",
       "      <td>PRU partial absence unexcused</td>\n",
       "      <td>0.0</td>\n",
       "      <td>1.0</td>\n",
       "    </tr>\n",
       "    <tr>\n",
       "      <th>1247</th>\n",
       "      <td>R school rel</td>\n",
       "      <td>0.0</td>\n",
       "      <td>1.0</td>\n",
       "    </tr>\n",
       "    <tr>\n",
       "      <th>212</th>\n",
       "      <td>A U</td>\n",
       "      <td>1.0</td>\n",
       "      <td>0.0</td>\n",
       "    </tr>\n",
       "    <tr>\n",
       "      <th>241</th>\n",
       "      <td>AE</td>\n",
       "      <td>1.0</td>\n",
       "      <td>0.0</td>\n",
       "    </tr>\n",
       "    <tr>\n",
       "      <th>297</th>\n",
       "      <td>B b115</td>\n",
       "      <td>1.0</td>\n",
       "      <td>0.0</td>\n",
       "    </tr>\n",
       "    <tr>\n",
       "      <th>298</th>\n",
       "      <td>B tardy ex</td>\n",
       "      <td>1.0</td>\n",
       "      <td>0.0</td>\n",
       "    </tr>\n",
       "    <tr>\n",
       "      <th>563</th>\n",
       "      <td>F fire</td>\n",
       "      <td>1.0</td>\n",
       "      <td>0.0</td>\n",
       "    </tr>\n",
       "    <tr>\n",
       "      <th>815</th>\n",
       "      <td>J job shadowing</td>\n",
       "      <td>1.0</td>\n",
       "      <td>0.0</td>\n",
       "    </tr>\n",
       "    <tr>\n",
       "      <th>987</th>\n",
       "      <td>N power</td>\n",
       "      <td>1.0</td>\n",
       "      <td>0.0</td>\n",
       "    </tr>\n",
       "    <tr>\n",
       "      <th>1023</th>\n",
       "      <td>NP power</td>\n",
       "      <td>1.0</td>\n",
       "      <td>0.0</td>\n",
       "    </tr>\n",
       "    <tr>\n",
       "      <th>1037</th>\n",
       "      <td>O susp</td>\n",
       "      <td>1.0</td>\n",
       "      <td>0.0</td>\n",
       "    </tr>\n",
       "    <tr>\n",
       "      <th>1038</th>\n",
       "      <td>O susp</td>\n",
       "      <td>1.0</td>\n",
       "      <td>0.0</td>\n",
       "    </tr>\n",
       "    <tr>\n",
       "      <th>1189</th>\n",
       "      <td>PU period unauthorized</td>\n",
       "      <td>1.0</td>\n",
       "      <td>0.0</td>\n",
       "    </tr>\n",
       "    <tr>\n",
       "      <th>1292</th>\n",
       "      <td>S sch func</td>\n",
       "      <td>1.0</td>\n",
       "      <td>0.0</td>\n",
       "    </tr>\n",
       "    <tr>\n",
       "      <th>1689</th>\n",
       "      <td>TD  technical difficulty</td>\n",
       "      <td>1.0</td>\n",
       "      <td>0.0</td>\n",
       "    </tr>\n",
       "    <tr>\n",
       "      <th>1690</th>\n",
       "      <td>TD  technical difficulty</td>\n",
       "      <td>1.0</td>\n",
       "      <td>0.0</td>\n",
       "    </tr>\n",
       "    <tr>\n",
       "      <th>1486</th>\n",
       "      <td>U</td>\n",
       "      <td>1.0</td>\n",
       "      <td>0.0</td>\n",
       "    </tr>\n",
       "  </tbody>\n",
       "</table>\n",
       "</div>"
      ],
      "text/plain": [
       "                           clean_abs  true_label  predicted\n",
       "1173  PRU partial absence unexcused          0.0        1.0\n",
       "1247                   R school rel          0.0        1.0\n",
       "212                            A U           1.0        0.0\n",
       "241                             AE           1.0        0.0\n",
       "297                          B b115          1.0        0.0\n",
       "298                      B tardy ex          1.0        0.0\n",
       "563                          F fire          1.0        0.0\n",
       "815                 J job shadowing          1.0        0.0\n",
       "987                         N power          1.0        0.0\n",
       "1023                       NP power          1.0        0.0\n",
       "1037                         O susp          1.0        0.0\n",
       "1038                         O susp          1.0        0.0\n",
       "1189         PU period unauthorized          1.0        0.0\n",
       "1292                     S sch func          1.0        0.0\n",
       "1689        TD  technical difficulty         1.0        0.0\n",
       "1690        TD  technical difficulty         1.0        0.0\n",
       "1486                             U           1.0        0.0"
      ]
     },
     "execution_count": 60,
     "metadata": {},
     "output_type": "execute_result"
    }
   ],
   "source": [
    "# Create test_df to see which clean_abs the model is predicting inaccurately\n",
    "test_df = pd.DataFrame(\n",
    "    {'clean_abs' : x_test,\n",
    "     'true_label': y_test,\n",
    "     'predicted' : rf2_y_pred\n",
    "    })\n",
    "test_df[test_df.true_label != test_df.predicted].sort_values(['true_label','clean_abs'])"
   ]
  },
  {
   "cell_type": "markdown",
   "metadata": {},
   "source": [
    "# \n",
    "## Conclusion"
   ]
  },
  {
   "cell_type": "markdown",
   "metadata": {},
   "source": [
    "__In this project, I used absencode code that are mostly one or two words and absence descriptions that are from a couple of words to a few sentences for binary classification of 'absent' variable. Creaing a bag-of-words model using TF-IDF vectorizer and applying random forest classifier yield about 96.7% of accuracy on testing set.__ \n",
    "\n",
    "__I've tried tuning some of the most important hyperparameters for the random forest classifier. All of the default values for the classifier already seem to work well so hyperparameter tuning didn't add too much value.__\n",
    "\n",
    "__While the model's performance isn't too bad, we still see some rooms for improvement. For example, 'O suspension' is classified as present (absent == 0) even though Out of school suspension is actually considered as absent.__\n",
    "\n",
    "__However, a high improvement of this model might not be easy because the absence description is very succinct and in some cases, some districts have conflicting absent values for the same absence codes. Hence, there might be some difficulty in achieving very high accuracy given our dataset.__\n"
   ]
  }
 ],
 "metadata": {
  "kernelspec": {
   "display_name": "Python 3",
   "language": "python",
   "name": "python3"
  },
  "language_info": {
   "codemirror_mode": {
    "name": "ipython",
    "version": 3
   },
   "file_extension": ".py",
   "mimetype": "text/x-python",
   "name": "python",
   "nbconvert_exporter": "python",
   "pygments_lexer": "ipython3",
   "version": "3.6.10"
  }
 },
 "nbformat": 4,
 "nbformat_minor": 2
}
